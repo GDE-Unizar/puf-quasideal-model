{
 "cells": [
  {
   "cell_type": "code",
   "execution_count": null,
   "id": "d136428a-c239-4099-849e-d20b5b5a879d",
   "metadata": {},
   "outputs": [],
   "source": [
    "import puf_qideal_model as pqm"
   ]
  },
  {
   "cell_type": "markdown",
   "id": "aabb8ef4-59fe-42c9-9954-f2a6dbe7bca8",
   "metadata": {},
   "source": [
    "# Tutorial\n",
    "In this notebook we work trhough an example using the **pqm** model to analyze some PUF experiments."
   ]
  },
  {
   "cell_type": "markdown",
   "id": "1a98701c-8fa6-4906-8a56-cda81b1d4cb4",
   "metadata": {},
   "source": [
    "Suppose we have conducted two different PUF experiments, each with 40 different instances, each providing a 100-bit long fuzzy binary response. Each instance is operated 100 times, and the entire set of mutual comparisons is stored in the files 'hamming-a.txt' and 'hamming-b.txt', formatted as explained in the `puf_qideal_model` package. Both experiments show a similar average intradistance of approximately 1%; however, experiment **a** has an average interdistance of 49.9%, while experiment **b** has an interdistance of 45%."
   ]
  },
  {
   "cell_type": "code",
   "execution_count": null,
   "id": "b6c6f993-0fc6-4942-a3e2-d8f23e49d60f",
   "metadata": {},
   "outputs": [],
   "source": [
    "## First, we load the experiments and display the distributions:\n",
    "exp_a = pqm.HammingDistribution()\n",
    "exp_a.load(\"hamming-a.txt\")\n",
    "exp_a.plot()\n",
    "\n",
    "exp_b = pqm.HammingDistribution()\n",
    "exp_b.load(\"hamming-b.txt\")\n",
    "exp_b.plot()"
   ]
  },
  {
   "cell_type": "markdown",
   "id": "8113dcf6-afc4-4c14-b739-c83577ba2f90",
   "metadata": {},
   "source": [
    "Now, we generate the simulated Dks distribution for each experiment"
   ]
  },
  {
   "cell_type": "code",
   "execution_count": null,
   "id": "1da30d38-5c1e-4b84-9101-473f33f82058",
   "metadata": {},
   "outputs": [],
   "source": [
    "\"\"\"\n",
    "WARNING:\n",
    "This command may take a while to finish. The 'Tutorial' folder already contains the output of this command.\n",
    "If you want to run this cell anyway, I encourage you to make a copy of the provided 'Dks-a.txt' and 'Dks-b.txt'\n",
    "files; otherwise, they will be replaced.\n",
    "\"\"\"\n",
    "\n",
    "! pqm-dks-distribution.exe -i40 -r100 -b100 -p0.01 -u0.499 -c5 -o\"-a\" # Dks distribution for rxperiment 'a'\n",
    "! pqm-dks-distribution.exe -i40 -r100 -b100 -p0.01 -u0.450 -c5 -o\"-b\" # Dks distribution for experiment 'b'"
   ]
  },
  {
   "cell_type": "markdown",
   "id": "75a905e2-7eff-410f-943b-11921350c20f",
   "metadata": {},
   "source": [
    "Once the simulation is finished we load and display the genretade Kolmogorov-Smirnov distance distributions"
   ]
  },
  {
   "cell_type": "code",
   "execution_count": null,
   "id": "82fa09e5-71ca-4b81-b750-6d8d108e8d9b",
   "metadata": {},
   "outputs": [],
   "source": [
    "Dks_a = pqm.DksDistribution()\n",
    "Dks_a.load(\"Dks-a.txt\")\n",
    "Dks_b = pqm.DksDistribution()\n",
    "Dks_b.load(\"Dks-b.txt\")\n",
    "\n",
    "# Show the distributions:\n",
    "Dks_a.plot(intra=True, intra_fit=True, inter=True, inter_fit=True)\n",
    "Dks_b.plot(intra=True, intra_fit=True, inter=True, inter_fit=True)"
   ]
  },
  {
   "cell_type": "markdown",
   "id": "6e1a3aac-befd-4e5c-b33a-50c8189509ab",
   "metadata": {},
   "source": [
    "We compute the p-value of the simulated distribution against the Kolomogorov-Smirnov distance obtained from the experiment **a** for both intra and inter Hamming distributions. If either of these two values is smaller than a given significance level $\\alpha$ (say, 5%), the hypothesis that the underlying distribution is binomial can be rejected."
   ]
  },
  {
   "cell_type": "code",
   "execution_count": null,
   "id": "82a50716-3b52-45aa-bb20-2847fcdeb0b8",
   "metadata": {},
   "outputs": [],
   "source": [
    "alpha = 5\n",
    "\n",
    "print(f\"Intra p-value: {100*Dks_a.intra_p_value(exp_a.dks_intra):.1f}%\")\n",
    "print(f\"Inter p-value: {100*Dks_a.inter_p_value(exp_a.dks_inter):.1f}%\")\n",
    "print()\n",
    "if 100*Dks_a.intra_p_value(exp_a.dks_intra)<alpha or 100*Dks_a.inter_p_value(exp_a.dks_inter)<alpha:\n",
    "    print(f\"Experiment 'a' does not follow a quasi-ideal model for a {alpha}% significance level\")\n",
    "else:\n",
    "    print(f\"The quasi-ideal model hypothesis prevails in experiment 'a' for a {alpha}% significance level\")"
   ]
  },
  {
   "cell_type": "markdown",
   "id": "652e549f-caba-4292-8670-9c97a05dbf80",
   "metadata": {},
   "source": [
    "We perform the same operation on the second experiment"
   ]
  },
  {
   "cell_type": "code",
   "execution_count": null,
   "id": "c35f6c22-35bf-43a2-adb7-083de8fb2e7c",
   "metadata": {},
   "outputs": [],
   "source": [
    "alpha = 5\n",
    "print(f\"Intra p-value: {100*Dks_b.intra_p_value(exp_b.dks_intra):.1f}%\")\n",
    "print(f\"Inter p-value: {100*Dks_b.inter_p_value(exp_b.dks_inter):.1f}%\")\n",
    "print()\n",
    "if 100*Dks_b.intra_p_value(exp_b.dks_intra)<alpha or 100*Dks_b.inter_p_value(exp_b.dks_inter)<alpha:\n",
    "    print(f\"Experiment 'b' does not follow a quasi-ideal model for a {alpha}% significance level\")\n",
    "else:\n",
    "    print(f\"The quasi-ideal model hypothesis prevails in experiment 'b' for a {alpha}% significance level\")"
   ]
  },
  {
   "cell_type": "markdown",
   "id": "f8456151-a2b2-48ef-a98e-63c988c3656d",
   "metadata": {},
   "source": [
    "This tutorial provides a typical example of using the **quasi-ideal PUF model** to conduct hypothesis testing on PUF experiments."
   ]
  }
 ],
 "metadata": {
  "kernelspec": {
   "display_name": "Python 3 (ipykernel)",
   "language": "python",
   "name": "python3"
  },
  "language_info": {
   "codemirror_mode": {
    "name": "ipython",
    "version": 3
   },
   "file_extension": ".py",
   "mimetype": "text/x-python",
   "name": "python",
   "nbconvert_exporter": "python",
   "pygments_lexer": "ipython3",
   "version": "3.12.4"
  }
 },
 "nbformat": 4,
 "nbformat_minor": 5
}
